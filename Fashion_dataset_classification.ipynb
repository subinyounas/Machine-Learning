{
  "nbformat": 4,
  "nbformat_minor": 0,
  "metadata": {
    "colab": {
      "provenance": []
    },
    "kernelspec": {
      "name": "python3",
      "display_name": "Python 3"
    },
    "language_info": {
      "name": "python"
    }
  },
  "cells": [
    {
      "cell_type": "code",
      "execution_count": 1,
      "metadata": {
        "id": "4HeUix4ZV-4Q"
      },
      "outputs": [],
      "source": [
        "import tensorflow as tf"
      ]
    },
    {
      "cell_type": "code",
      "source": [
        "from tensorflow import keras"
      ],
      "metadata": {
        "id": "wy8w0zVlWgae"
      },
      "execution_count": 2,
      "outputs": []
    },
    {
      "cell_type": "code",
      "source": [
        "import numpy as np"
      ],
      "metadata": {
        "id": "Iyn3TOMXWkjL"
      },
      "execution_count": 3,
      "outputs": []
    },
    {
      "cell_type": "code",
      "source": [
        "fashion_mnist = keras.datasets.fashion_mnist"
      ],
      "metadata": {
        "id": "ygxtLXcMW6Ua"
      },
      "execution_count": 4,
      "outputs": []
    },
    {
      "cell_type": "code",
      "source": [
        "(X_data, y_data),(X_test,y_test) = fashion_mnist.load_data() #load full data as x_data, y_data and testing data as x_testm, y_test"
      ],
      "metadata": {
        "colab": {
          "base_uri": "https://localhost:8080/"
        },
        "id": "ZCjWoUbeXKjF",
        "outputId": "fda58582-a7d6-4091-aff0-3bd0bf4692a7"
      },
      "execution_count": 5,
      "outputs": [
        {
          "output_type": "stream",
          "name": "stdout",
          "text": [
            "Downloading data from https://storage.googleapis.com/tensorflow/tf-keras-datasets/train-labels-idx1-ubyte.gz\n",
            "29515/29515 [==============================] - 0s 0us/step\n",
            "Downloading data from https://storage.googleapis.com/tensorflow/tf-keras-datasets/train-images-idx3-ubyte.gz\n",
            "26421880/26421880 [==============================] - 0s 0us/step\n",
            "Downloading data from https://storage.googleapis.com/tensorflow/tf-keras-datasets/t10k-labels-idx1-ubyte.gz\n",
            "5148/5148 [==============================] - 0s 0us/step\n",
            "Downloading data from https://storage.googleapis.com/tensorflow/tf-keras-datasets/t10k-images-idx3-ubyte.gz\n",
            "4422102/4422102 [==============================] - 0s 0us/step\n"
          ]
        }
      ]
    },
    {
      "cell_type": "code",
      "source": [
        "X_data.shape , X_test.shape"
      ],
      "metadata": {
        "colab": {
          "base_uri": "https://localhost:8080/"
        },
        "id": "bLuJtQe-Xqmx",
        "outputId": "9c2382db-274b-4316-86a2-6528359f04ee"
      },
      "execution_count": 6,
      "outputs": [
        {
          "output_type": "execute_result",
          "data": {
            "text/plain": [
              "((60000, 28, 28), (10000, 28, 28))"
            ]
          },
          "metadata": {},
          "execution_count": 6
        }
      ]
    },
    {
      "cell_type": "code",
      "source": [
        "np.unique(y_data)"
      ],
      "metadata": {
        "colab": {
          "base_uri": "https://localhost:8080/"
        },
        "id": "derK-fg9X7hF",
        "outputId": "414b850a-2ac2-4a6a-e661-277c4b3d1c23"
      },
      "execution_count": 7,
      "outputs": [
        {
          "output_type": "execute_result",
          "data": {
            "text/plain": [
              "array([0, 1, 2, 3, 4, 5, 6, 7, 8, 9], dtype=uint8)"
            ]
          },
          "metadata": {},
          "execution_count": 7
        }
      ]
    },
    {
      "cell_type": "code",
      "source": [
        "X_data = X_data / 255\n",
        "X_test = X_test / 255  #normalize data to fall between 0 and 1\n"
      ],
      "metadata": {
        "id": "EBSp9825l-8U"
      },
      "execution_count": 8,
      "outputs": []
    },
    {
      "cell_type": "code",
      "source": [
        "from sklearn.model_selection import train_test_split\n",
        "\n",
        "X_train,X_valid,y_train,y_valid = train_test_split(X_data,y_data,shuffle=True,stratify =y_data) #Split into training and validation set"
      ],
      "metadata": {
        "id": "pThxh0A8kpZ9"
      },
      "execution_count": 9,
      "outputs": []
    },
    {
      "cell_type": "code",
      "source": [
        "X_train.shape"
      ],
      "metadata": {
        "colab": {
          "base_uri": "https://localhost:8080/"
        },
        "id": "nC3G59-SlVPQ",
        "outputId": "f1f34d7f-39b5-4b2c-bd01-46da5363d661"
      },
      "execution_count": 10,
      "outputs": [
        {
          "output_type": "execute_result",
          "data": {
            "text/plain": [
              "(45000, 28, 28)"
            ]
          },
          "metadata": {},
          "execution_count": 10
        }
      ]
    },
    {
      "cell_type": "code",
      "source": [
        "class_names = [\"T-shirt/top\", \"Trouser\", \"Pullover\", \"Dress\", \"Coat\", \"Sandal\", \"Shirt\", \"Sneaker\", \"Bag\", \"Ankle boot\"] #class names of fashion features"
      ],
      "metadata": {
        "id": "YcjN7lg9n1wp"
      },
      "execution_count": 11,
      "outputs": []
    },
    {
      "cell_type": "code",
      "source": [
        "fashion_label = y_train[0]"
      ],
      "metadata": {
        "id": "bfRR49IDqdy_"
      },
      "execution_count": 56,
      "outputs": []
    },
    {
      "cell_type": "code",
      "source": [
        "import matplotlib.pyplot as plt\n",
        "plt.imshow(X_train[fashion_label], cmap='gray') # cmap to make it recognize grayscale\n",
        "plt.xlabel(class_names[y_train[fashion_label]])\n",
        "plt.show()"
      ],
      "metadata": {
        "colab": {
          "base_uri": "https://localhost:8080/",
          "height": 449
        },
        "id": "zGaW8UGJlgx5",
        "outputId": "0bb6d86d-527e-4dee-9b4a-274cf06559d0"
      },
      "execution_count": 57,
      "outputs": [
        {
          "output_type": "display_data",
          "data": {
            "text/plain": [
              "<Figure size 640x480 with 1 Axes>"
            ],
            "image/png": "[encoded data removed]"
          },
          "metadata": {}
        }
      ]
    },
    {
      "cell_type": "code",
      "source": [
        "#using tensorflow"
      ],
      "metadata": {
        "id": "S5b5sujg2R1l"
      },
      "execution_count": 14,
      "outputs": []
    },
    {
      "cell_type": "code",
      "source": [
        "fashion_mnist = keras.datasets.fashion_mnist"
      ],
      "metadata": {
        "id": "-4fyMI9T3o3p"
      },
      "execution_count": 15,
      "outputs": []
    },
    {
      "cell_type": "code",
      "source": [
        "train_data , test_data = fashion_mnist.load_data()"
      ],
      "metadata": {
        "id": "oENs2dhH3vIa"
      },
      "execution_count": 16,
      "outputs": []
    },
    {
      "cell_type": "code",
      "source": [
        "train_data = tf.data.Dataset.from_tensor_slices(train_data)\n",
        "test_data = tf.data.Dataset.from_tensor_slices(test_data)"
      ],
      "metadata": {
        "id": "TOmTfLYZ3NLo"
      },
      "execution_count": 17,
      "outputs": []
    },
    {
      "cell_type": "code",
      "source": [
        "train_data.cardinality()"
      ],
      "metadata": {
        "colab": {
          "base_uri": "https://localhost:8080/"
        },
        "id": "RVvnnRGY3Kjp",
        "outputId": "0afba096-17f3-41a9-9f84-6d511ed858f6"
      },
      "execution_count": 18,
      "outputs": [
        {
          "output_type": "execute_result",
          "data": {
            "text/plain": [
              "<tf.Tensor: shape=(), dtype=int64, numpy=60000>"
            ]
          },
          "metadata": {},
          "execution_count": 18
        }
      ]
    },
    {
      "cell_type": "code",
      "source": [
        "#normalizing train and test sets\n",
        "train_data = train_data.map(lambda x,y: (tf.cast(x,tf.float32)/255.,y))\n",
        "test_data = test_data.map(lambda x,y: (tf.cast(x,tf.float32)/255.,y))"
      ],
      "metadata": {
        "id": "hlT4Gm_E4eUM"
      },
      "execution_count": 19,
      "outputs": []
    },
    {
      "cell_type": "code",
      "source": [
        "#split train_data into training set and validation set\n",
        "train_tf = train_data.take(45000)\n",
        "valid_tf = train_data.skip(45000)"
      ],
      "metadata": {
        "id": "ZuMEyGNj5NDs"
      },
      "execution_count": 20,
      "outputs": []
    },
    {
      "cell_type": "code",
      "source": [
        "# or Split using keras.utils.split\n",
        "train_tf , valid_tf = keras.utils.split_dataset(train_data,left_size=0.75,shuffle=True)"
      ],
      "metadata": {
        "id": "F9imFquc5nJ_"
      },
      "execution_count": 21,
      "outputs": []
    },
    {
      "cell_type": "code",
      "source": [
        "# take one element and plot it\n",
        "for element in train_data.take(1):\n",
        "  plt.imshow(element[0], cmap='gray') # cmap to make it recognize grayscale\n",
        "  plt.xlabel(class_names[element[1]])\n",
        "  plt.show()\n"
      ],
      "metadata": {
        "colab": {
          "base_uri": "https://localhost:8080/",
          "height": 449
        },
        "id": "rdMXyzBx6FEl",
        "outputId": "8f5eea56-d0c5-4419-dd29-f4040cb86310"
      },
      "execution_count": 22,
      "outputs": [
        {
          "output_type": "display_data",
          "data": {
            "text/plain": [
              "<Figure size 640x480 with 1 Axes>"
            ],
            "image/png": "[encoded data removed]"
          },
          "metadata": {}
        }
      ]
    },
    {
      "cell_type": "code",
      "source": [
        "# process training set - Add repeat shuffle and batching"
      ],
      "metadata": {
        "id": "HpzFNQfi9Zuw"
      },
      "execution_count": 23,
      "outputs": []
    },
    {
      "cell_type": "code",
      "source": [
        "BUFFER_SIZE = 45000\n",
        "BATCH_SIZE = 32\n",
        "REPEAT_SIZE = 2"
      ],
      "metadata": {
        "id": "Q53I3epW9fQM"
      },
      "execution_count": 24,
      "outputs": []
    },
    {
      "cell_type": "code",
      "source": [
        "train_tf_processed = train_tf.repeat(REPEAT_SIZE).shuffle(BUFFER_SIZE).batch(BATCH_SIZE)\n",
        "valid_tf_processed = valid_tf.batch(BATCH_SIZE)"
      ],
      "metadata": {
        "id": "Eh_AFHpu9oCc"
      },
      "execution_count": 25,
      "outputs": []
    },
    {
      "cell_type": "markdown",
      "source": [
        "# creating a fully connected sequential network to train for classificaton"
      ],
      "metadata": {
        "id": "omMXjIXt-ykg"
      }
    },
    {
      "cell_type": "code",
      "source": [
        "#creating a model\n",
        "model = keras.models.Sequential()  #sequential model initialization\n",
        "\n",
        "model.add(keras.layers.Input([28,28],name = 'input'))  #input layer\n",
        "model.add(keras.layers.Flatten())  #flattening the image to a vector space\n",
        "model.add(keras.layers.Dense(300,activation = keras.activations.relu,name = 'dense1'))\n",
        "model.add(keras.layers.Dense(100,activation = keras.activations.relu,name = 'dense2'))\n",
        "model.add(keras.layers.Dense(10,activation = keras.activations.softmax,name = 'output'))   #output layers of 10 features\n",
        "\n"
      ],
      "metadata": {
        "id": "5zgkHMk0-0FE"
      },
      "execution_count": 27,
      "outputs": []
    },
    {
      "cell_type": "markdown",
      "source": [],
      "metadata": {
        "id": "rabm8KWw-wjG"
      }
    },
    {
      "cell_type": "code",
      "source": [
        "# visualize the created model\n",
        "keras.utils.plot_model(model)"
      ],
      "metadata": {
        "colab": {
          "base_uri": "https://localhost:8080/",
          "height": 466
        },
        "id": "lxMTFuUlCqSm",
        "outputId": "2adde9e6-04dc-4e6b-8a41-80ea9b852bf5"
      },
      "execution_count": 28,
      "outputs": [
        {
          "output_type": "execute_result",
          "data": {
            "image/png": "[encoded data removed]",
            "text/plain": [
              "<IPython.core.display.Image object>"
            ]
          },
          "metadata": {},
          "execution_count": 28
        }
      ]
    },
    {
      "cell_type": "code",
      "source": [
        "model.summary()"
      ],
      "metadata": {
        "colab": {
          "base_uri": "https://localhost:8080/"
        },
        "id": "qGgssAIADENa",
        "outputId": "1898ad5e-3c0b-4901-e3c8-e270b47e7dfe"
      },
      "execution_count": 29,
      "outputs": [
        {
          "output_type": "stream",
          "name": "stdout",
          "text": [
            "Model: \"sequential_1\"\n",
            "_________________________________________________________________\n",
            " Layer (type)                Output Shape              Param #   \n",
            "=================================================================\n",
            " flatten (Flatten)           (None, 784)               0         \n",
            "                                                                 \n",
            " dense1 (Dense)              (None, 300)               235500    \n",
            "                                                                 \n",
            " dense2 (Dense)              (None, 100)               30100     \n",
            "                                                                 \n",
            " output (Dense)              (None, 10)                1010      \n",
            "                                                                 \n",
            "=================================================================\n",
            "Total params: 266610 (1.02 MB)\n",
            "Trainable params: 266610 (1.02 MB)\n",
            "Non-trainable params: 0 (0.00 Byte)\n",
            "_________________________________________________________________\n"
          ]
        }
      ]
    },
    {
      "cell_type": "code",
      "source": [
        "# get the weights and bias of a layer\n",
        "dense1 = model.layers[1]\n",
        "weights , bias = dense1.weights"
      ],
      "metadata": {
        "id": "i85-ms07DnIJ"
      },
      "execution_count": 32,
      "outputs": []
    },
    {
      "cell_type": "code",
      "source": [
        "weights"
      ],
      "metadata": {
        "colab": {
          "base_uri": "https://localhost:8080/"
        },
        "id": "-beUlKgsD89j",
        "outputId": "07effe32-8e97-4b9b-d792-8c080f582e34"
      },
      "execution_count": 33,
      "outputs": [
        {
          "output_type": "execute_result",
          "data": {
            "text/plain": [
              "<tf.Variable 'dense1/kernel:0' shape=(784, 300) dtype=float32, numpy=\n",
              "array([[ 4.58545685e-02, -5.13100773e-02,  3.10023800e-02, ...,\n",
              "        -5.09206951e-02, -5.00435047e-02,  5.58684021e-02],\n",
              "       [-4.95282188e-02,  4.28086966e-02, -6.69103414e-02, ...,\n",
              "        -2.75735110e-02,  4.90500778e-02,  9.37899947e-03],\n",
              "       [ 1.21346042e-02, -9.34191048e-03, -5.70797548e-02, ...,\n",
              "         5.95232695e-02, -3.40349488e-02, -5.63591048e-02],\n",
              "       ...,\n",
              "       [-2.11928859e-02, -7.16146901e-02,  4.32349741e-03, ...,\n",
              "         6.90797120e-02,  2.59815380e-02, -1.58494636e-02],\n",
              "       [-3.25677469e-02, -1.79784857e-02,  3.26787680e-03, ...,\n",
              "         1.14662275e-02, -2.74288431e-02,  7.31254667e-02],\n",
              "       [-5.86351193e-02,  1.45193413e-02, -3.01897526e-05, ...,\n",
              "         4.72471491e-02, -4.19861935e-02,  1.80712342e-02]], dtype=float32)>"
            ]
          },
          "metadata": {},
          "execution_count": 33
        }
      ]
    },
    {
      "cell_type": "code",
      "source": [
        "bias"
      ],
      "metadata": {
        "colab": {
          "base_uri": "https://localhost:8080/"
        },
        "id": "iuUX2AU_DuWJ",
        "outputId": "bf38a6bd-a08e-4402-f287-eedb31257d9b"
      },
      "execution_count": 34,
      "outputs": [
        {
          "output_type": "execute_result",
          "data": {
            "text/plain": [
              "<tf.Variable 'dense1/bias:0' shape=(300,) dtype=float32, numpy=\n",
              "array([0., 0., 0., 0., 0., 0., 0., 0., 0., 0., 0., 0., 0., 0., 0., 0., 0.,\n",
              "       0., 0., 0., 0., 0., 0., 0., 0., 0., 0., 0., 0., 0., 0., 0., 0., 0.,\n",
              "       0., 0., 0., 0., 0., 0., 0., 0., 0., 0., 0., 0., 0., 0., 0., 0., 0.,\n",
              "       0., 0., 0., 0., 0., 0., 0., 0., 0., 0., 0., 0., 0., 0., 0., 0., 0.,\n",
              "       0., 0., 0., 0., 0., 0., 0., 0., 0., 0., 0., 0., 0., 0., 0., 0., 0.,\n",
              "       0., 0., 0., 0., 0., 0., 0., 0., 0., 0., 0., 0., 0., 0., 0., 0., 0.,\n",
              "       0., 0., 0., 0., 0., 0., 0., 0., 0., 0., 0., 0., 0., 0., 0., 0., 0.,\n",
              "       0., 0., 0., 0., 0., 0., 0., 0., 0., 0., 0., 0., 0., 0., 0., 0., 0.,\n",
              "       0., 0., 0., 0., 0., 0., 0., 0., 0., 0., 0., 0., 0., 0., 0., 0., 0.,\n",
              "       0., 0., 0., 0., 0., 0., 0., 0., 0., 0., 0., 0., 0., 0., 0., 0., 0.,\n",
              "       0., 0., 0., 0., 0., 0., 0., 0., 0., 0., 0., 0., 0., 0., 0., 0., 0.,\n",
              "       0., 0., 0., 0., 0., 0., 0., 0., 0., 0., 0., 0., 0., 0., 0., 0., 0.,\n",
              "       0., 0., 0., 0., 0., 0., 0., 0., 0., 0., 0., 0., 0., 0., 0., 0., 0.,\n",
              "       0., 0., 0., 0., 0., 0., 0., 0., 0., 0., 0., 0., 0., 0., 0., 0., 0.,\n",
              "       0., 0., 0., 0., 0., 0., 0., 0., 0., 0., 0., 0., 0., 0., 0., 0., 0.,\n",
              "       0., 0., 0., 0., 0., 0., 0., 0., 0., 0., 0., 0., 0., 0., 0., 0., 0.,\n",
              "       0., 0., 0., 0., 0., 0., 0., 0., 0., 0., 0., 0., 0., 0., 0., 0., 0.,\n",
              "       0., 0., 0., 0., 0., 0., 0., 0., 0., 0., 0.], dtype=float32)>"
            ]
          },
          "metadata": {},
          "execution_count": 34
        }
      ]
    },
    {
      "cell_type": "markdown",
      "source": [],
      "metadata": {
        "id": "ayElwtCGCqAZ"
      }
    },
    {
      "cell_type": "code",
      "source": [
        "# compile the model with loss, optimizer and metrics\n",
        "model.compile(loss='sparse_categorical_crossentropy',optimizer = keras.optimizers.SGD(learning_rate=0.01), metrics = ['accuracy']) #using sparse cross entropy loss with sgd optimizer"
      ],
      "metadata": {
        "id": "KIPkMG09EieU"
      },
      "execution_count": 35,
      "outputs": []
    },
    {
      "cell_type": "code",
      "source": [
        "# fit the model\n",
        "history = model.fit(train_tf_processed,validation_data = valid_tf_processed,epochs=20)"
      ],
      "metadata": {
        "colab": {
          "base_uri": "https://localhost:8080/"
        },
        "id": "haViPSppFoN-",
        "outputId": "9df1e1e6-ceab-4d50-b49b-679b15847107"
      },
      "execution_count": 37,
      "outputs": [
        {
          "output_type": "stream",
          "name": "stdout",
          "text": [
            "Epoch 1/20\n",
            "2813/2813 [==============================] - 15s 5ms/step - loss: 0.6346 - accuracy: 0.7876 - val_loss: 0.4727 - val_accuracy: 0.8345\n",
            "Epoch 2/20\n",
            "2813/2813 [==============================] - 13s 5ms/step - loss: 0.4456 - accuracy: 0.8444 - val_loss: 0.4293 - val_accuracy: 0.8499\n",
            "Epoch 3/20\n",
            "2813/2813 [==============================] - 13s 5ms/step - loss: 0.4051 - accuracy: 0.8580 - val_loss: 0.3954 - val_accuracy: 0.8619\n",
            "Epoch 4/20\n",
            "2813/2813 [==============================] - 14s 5ms/step - loss: 0.3761 - accuracy: 0.8671 - val_loss: 0.3736 - val_accuracy: 0.8679\n",
            "Epoch 5/20\n",
            "2813/2813 [==============================] - 13s 5ms/step - loss: 0.3561 - accuracy: 0.8754 - val_loss: 0.3835 - val_accuracy: 0.8616\n",
            "Epoch 6/20\n",
            "2813/2813 [==============================] - 13s 5ms/step - loss: 0.3390 - accuracy: 0.8794 - val_loss: 0.3694 - val_accuracy: 0.8621\n",
            "Epoch 7/20\n",
            "2813/2813 [==============================] - 13s 5ms/step - loss: 0.3238 - accuracy: 0.8852 - val_loss: 0.3328 - val_accuracy: 0.8793\n",
            "Epoch 8/20\n",
            "2813/2813 [==============================] - 13s 4ms/step - loss: 0.3104 - accuracy: 0.8890 - val_loss: 0.3267 - val_accuracy: 0.8825\n",
            "Epoch 9/20\n",
            "2813/2813 [==============================] - 14s 5ms/step - loss: 0.2986 - accuracy: 0.8933 - val_loss: 0.3242 - val_accuracy: 0.8829\n",
            "Epoch 10/20\n",
            "2813/2813 [==============================] - 13s 5ms/step - loss: 0.2871 - accuracy: 0.8967 - val_loss: 0.3255 - val_accuracy: 0.8803\n",
            "Epoch 11/20\n",
            "2813/2813 [==============================] - 14s 5ms/step - loss: 0.2768 - accuracy: 0.8994 - val_loss: 0.3093 - val_accuracy: 0.8896\n",
            "Epoch 12/20\n",
            "2813/2813 [==============================] - 13s 5ms/step - loss: 0.2671 - accuracy: 0.9033 - val_loss: 0.3325 - val_accuracy: 0.8804\n",
            "Epoch 13/20\n",
            "2813/2813 [==============================] - 13s 5ms/step - loss: 0.2577 - accuracy: 0.9077 - val_loss: 0.3349 - val_accuracy: 0.8763\n",
            "Epoch 14/20\n",
            "2813/2813 [==============================] - 13s 5ms/step - loss: 0.2492 - accuracy: 0.9107 - val_loss: 0.3141 - val_accuracy: 0.8865\n",
            "Epoch 15/20\n",
            "2813/2813 [==============================] - 14s 5ms/step - loss: 0.2413 - accuracy: 0.9136 - val_loss: 0.2990 - val_accuracy: 0.8922\n",
            "Epoch 16/20\n",
            "2813/2813 [==============================] - 14s 5ms/step - loss: 0.2335 - accuracy: 0.9158 - val_loss: 0.2990 - val_accuracy: 0.8923\n",
            "Epoch 17/20\n",
            "2813/2813 [==============================] - 14s 5ms/step - loss: 0.2261 - accuracy: 0.9187 - val_loss: 0.3037 - val_accuracy: 0.8885\n",
            "Epoch 18/20\n",
            "2813/2813 [==============================] - 14s 5ms/step - loss: 0.2186 - accuracy: 0.9216 - val_loss: 0.2947 - val_accuracy: 0.8959\n",
            "Epoch 19/20\n",
            "2813/2813 [==============================] - 14s 5ms/step - loss: 0.2120 - accuracy: 0.9236 - val_loss: 0.4086 - val_accuracy: 0.8589\n",
            "Epoch 20/20\n",
            "2813/2813 [==============================] - 14s 5ms/step - loss: 0.2058 - accuracy: 0.9257 - val_loss: 0.2957 - val_accuracy: 0.8941\n"
          ]
        }
      ]
    },
    {
      "cell_type": "code",
      "source": [
        "history.params"
      ],
      "metadata": {
        "colab": {
          "base_uri": "https://localhost:8080/"
        },
        "id": "l4vNsGXDIwA7",
        "outputId": "fab63ae3-8e58-42a6-f7a0-61c6f0dc2576"
      },
      "execution_count": 40,
      "outputs": [
        {
          "output_type": "execute_result",
          "data": {
            "text/plain": [
              "{'verbose': 1, 'epochs': 20, 'steps': 2813}"
            ]
          },
          "metadata": {},
          "execution_count": 40
        }
      ]
    },
    {
      "cell_type": "code",
      "source": [
        "history.history  #history of plotting"
      ],
      "metadata": {
        "colab": {
          "base_uri": "https://localhost:8080/"
        },
        "id": "7qn6ncPMI7AH",
        "outputId": "555ee744-e30f-42ea-f703-00c5b50c3be4"
      },
      "execution_count": 42,
      "outputs": [
        {
          "output_type": "execute_result",
          "data": {
            "text/plain": [
              "{'loss': [0.6346011161804199,\n",
              "  0.4456307291984558,\n",
              "  0.4051016867160797,\n",
              "  0.37608879804611206,\n",
              "  0.3560805320739746,\n",
              "  0.33900588750839233,\n",
              "  0.3237524628639221,\n",
              "  0.3104257881641388,\n",
              "  0.29858291149139404,\n",
              "  0.28705111145973206,\n",
              "  0.2767566740512848,\n",
              "  0.26710090041160583,\n",
              "  0.25767138600349426,\n",
              "  0.2491714358329773,\n",
              "  0.24133192002773285,\n",
              "  0.23354537785053253,\n",
              "  0.22605876624584198,\n",
              "  0.21859510242938995,\n",
              "  0.21201950311660767,\n",
              "  0.20581011474132538],\n",
              " 'accuracy': [0.7875666618347168,\n",
              "  0.8443777561187744,\n",
              "  0.858044445514679,\n",
              "  0.8670666813850403,\n",
              "  0.8754110932350159,\n",
              "  0.8793777823448181,\n",
              "  0.8851555585861206,\n",
              "  0.8889999985694885,\n",
              "  0.8933444619178772,\n",
              "  0.8966666460037231,\n",
              "  0.8994222283363342,\n",
              "  0.9032889008522034,\n",
              "  0.9076555371284485,\n",
              "  0.9106666445732117,\n",
              "  0.9136444330215454,\n",
              "  0.9157666563987732,\n",
              "  0.9187111258506775,\n",
              "  0.9215666651725769,\n",
              "  0.9236222505569458,\n",
              "  0.9257000088691711],\n",
              " 'val_loss': [0.47274351119995117,\n",
              "  0.42926037311553955,\n",
              "  0.39541181921958923,\n",
              "  0.3735889792442322,\n",
              "  0.3834836483001709,\n",
              "  0.3694011867046356,\n",
              "  0.33276671171188354,\n",
              "  0.3266913592815399,\n",
              "  0.324177622795105,\n",
              "  0.3254551291465759,\n",
              "  0.30934733152389526,\n",
              "  0.33249765634536743,\n",
              "  0.3348957896232605,\n",
              "  0.31407520174980164,\n",
              "  0.29903411865234375,\n",
              "  0.29900407791137695,\n",
              "  0.30372750759124756,\n",
              "  0.29468584060668945,\n",
              "  0.40856310725212097,\n",
              "  0.2957044541835785],\n",
              " 'val_accuracy': [0.8345333337783813,\n",
              "  0.8498666882514954,\n",
              "  0.8618666529655457,\n",
              "  0.8679333329200745,\n",
              "  0.8615999817848206,\n",
              "  0.8621333241462708,\n",
              "  0.8792666792869568,\n",
              "  0.8825333118438721,\n",
              "  0.8829333186149597,\n",
              "  0.8802666664123535,\n",
              "  0.8895999789237976,\n",
              "  0.8804000020027161,\n",
              "  0.8763333559036255,\n",
              "  0.8864666819572449,\n",
              "  0.8921999931335449,\n",
              "  0.8923333287239075,\n",
              "  0.8884666562080383,\n",
              "  0.8958666920661926,\n",
              "  0.8589333295822144,\n",
              "  0.8941333293914795]}"
            ]
          },
          "metadata": {},
          "execution_count": 42
        }
      ]
    },
    {
      "cell_type": "code",
      "source": [
        "import pandas as pd\n",
        "import matplotlib.pyplot as plt\n",
        "\n",
        "pd.DataFrame(history.history).plot(figsize=(10, 6))\n",
        "plt.grid(True)\n",
        "plt.gca().set_ylim(0, 1) # set the vertical range to [0-1]\n",
        "plt.show()"
      ],
      "metadata": {
        "colab": {
          "base_uri": "https://localhost:8080/",
          "height": 528
        },
        "id": "nqJ4BaybJAsr",
        "outputId": "f296bffe-e0e4-4e80-da60-dc156546e706"
      },
      "execution_count": 43,
      "outputs": [
        {
          "output_type": "display_data",
          "data": {
            "text/plain": [
              "<Figure size 1000x600 with 1 Axes>"
            ],
            "image/png": "[encoded data removed]"
          },
          "metadata": {}
        }
      ]
    },
    {
      "cell_type": "code",
      "source": [
        "model.evaluate(X_test,y_test) #evaluation on test set"
      ],
      "metadata": {
        "colab": {
          "base_uri": "https://localhost:8080/"
        },
        "id": "YxyCq-OeJFbn",
        "outputId": "040235d7-1715-46cb-dc7a-251724429f40"
      },
      "execution_count": 45,
      "outputs": [
        {
          "output_type": "stream",
          "name": "stdout",
          "text": [
            "313/313 [==============================] - 3s 10ms/step - loss: 0.3360 - accuracy: 0.8831\n"
          ]
        },
        {
          "output_type": "execute_result",
          "data": {
            "text/plain": [
              "[0.3359644114971161, 0.8830999732017517]"
            ]
          },
          "metadata": {},
          "execution_count": 45
        }
      ]
    },
    {
      "cell_type": "code",
      "source": [
        "#prediction\n",
        "X_new = X_test[:5]\n",
        "y_probability = model.predict(X_new)\n",
        "y_probability.round(2)"
      ],
      "metadata": {
        "colab": {
          "base_uri": "https://localhost:8080/"
        },
        "id": "A5FB9FuiJYpg",
        "outputId": "68a173cc-fcbc-41ad-abeb-e3198701ccfa"
      },
      "execution_count": 47,
      "outputs": [
        {
          "output_type": "stream",
          "name": "stdout",
          "text": [
            "1/1 [==============================] - 0s 36ms/step\n"
          ]
        },
        {
          "output_type": "execute_result",
          "data": {
            "text/plain": [
              "array([[0.  , 0.  , 0.  , 0.  , 0.  , 0.  , 0.  , 0.02, 0.  , 0.98],\n",
              "       [0.  , 0.  , 1.  , 0.  , 0.  , 0.  , 0.  , 0.  , 0.  , 0.  ],\n",
              "       [0.  , 1.  , 0.  , 0.  , 0.  , 0.  , 0.  , 0.  , 0.  , 0.  ],\n",
              "       [0.  , 1.  , 0.  , 0.  , 0.  , 0.  , 0.  , 0.  , 0.  , 0.  ],\n",
              "       [0.08, 0.  , 0.01, 0.  , 0.  , 0.  , 0.9 , 0.  , 0.  , 0.  ]],\n",
              "      dtype=float32)"
            ]
          },
          "metadata": {},
          "execution_count": 47
        }
      ]
    },
    {
      "cell_type": "code",
      "source": [
        "import numpy as np\n",
        "np.array(class_names)[np.argmax(y_probability, axis=1)] #check with class names"
      ],
      "metadata": {
        "colab": {
          "base_uri": "https://localhost:8080/"
        },
        "id": "KV6Fb-IoJ1t4",
        "outputId": "c6fa4fc4-f57f-47cd-c4ab-072735cc84ae"
      },
      "execution_count": 49,
      "outputs": [
        {
          "output_type": "execute_result",
          "data": {
            "text/plain": [
              "array(['Ankle boot', 'Pullover', 'Trouser', 'Trouser', 'Shirt'],\n",
              "      dtype='<U11')"
            ]
          },
          "metadata": {},
          "execution_count": 49
        }
      ]
    },
    {
      "cell_type": "code",
      "source": [
        "#save the model\n",
        "model.save('fashion_classification_sample.keras')"
      ],
      "metadata": {
        "id": "TwS3XJzmKX3y"
      },
      "execution_count": 58,
      "outputs": []
    }
  ]
}